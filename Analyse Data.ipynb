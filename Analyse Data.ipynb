{
 "cells": [
  {
   "cell_type": "code",
   "execution_count": 1,
   "metadata": {},
   "outputs": [],
   "source": [
    "import json"
   ]
  },
  {
   "cell_type": "code",
   "execution_count": 2,
   "metadata": {},
   "outputs": [],
   "source": [
    "def generate_BIO(sentence, frames, index_start) :\n",
    "    sentence_length = len(sentence)\n",
    "    tags = ['O'] * sentence_length\n",
    "    for frame in frames :\n",
    "        start, end, tag = frame\n",
    "        start -= index_start\n",
    "        end -= index_start\n",
    "        tags[start] = 'B-' + tag\n",
    "        for pos in range(start+1, end+1) :\n",
    "            tags[pos] = 'I-' + tag\n",
    "    return list(zip(sentence, tags))"
   ]
  },
  {
   "cell_type": "code",
   "execution_count": 4,
   "metadata": {},
   "outputs": [],
   "source": [
    "keys = ['train', 'dev', 'test']\n",
    "for k in keys :\n",
    "    data = [json.loads(line) for line in open('sciERC_processed_data/json/' + k + '.json')]\n",
    "    seq_labels = []\n",
    "    for doc in data :\n",
    "        index_start = 0\n",
    "        for sentence, frames in zip(doc['sentences'], doc['ner']) :\n",
    "            seq_labels.append(generate_BIO(sentence, frames, index_start))\n",
    "            index_start += len(sentence)\n",
    "            \n",
    "    BIO_data_file = open('sciERC_processed_data/conll/' + k + '.txt', 'w')\n",
    "    for sent in seq_labels :\n",
    "        for word, tag in sent :\n",
    "            BIO_data_file.write(\" \".join([word, 'POS', tag]) + '\\n')\n",
    "        BIO_data_file.write('\\n')\n",
    "    BIO_data_file.close()"
   ]
  },
  {
   "cell_type": "code",
   "execution_count": null,
   "metadata": {},
   "outputs": [],
   "source": []
  },
  {
   "cell_type": "code",
   "execution_count": null,
   "metadata": {},
   "outputs": [],
   "source": []
  }
 ],
 "metadata": {
  "kernelspec": {
   "display_name": "Python 3",
   "language": "python",
   "name": "python3"
  },
  "language_info": {
   "codemirror_mode": {
    "name": "ipython",
    "version": 3
   },
   "file_extension": ".py",
   "mimetype": "text/x-python",
   "name": "python",
   "nbconvert_exporter": "python",
   "pygments_lexer": "ipython3",
   "version": "3.6.8"
  }
 },
 "nbformat": 4,
 "nbformat_minor": 2
}
