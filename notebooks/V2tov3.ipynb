{
 "cells": [
  {
   "cell_type": "code",
   "execution_count": 1,
   "metadata": {},
   "outputs": [],
   "source": [
    "%load_ext autoreload\n",
    "%autoreload 2"
   ]
  },
  {
   "cell_type": "code",
   "execution_count": 2,
   "metadata": {},
   "outputs": [],
   "source": [
    "import pandas as pd\n",
    "from tqdm import tqdm\n",
    "tqdm.pandas()"
   ]
  },
  {
   "cell_type": "code",
   "execution_count": 3,
   "metadata": {},
   "outputs": [],
   "source": [
    "from collections import namedtuple\n",
    "WordPos = namedtuple('WordPos', 'word,section_id,para_id,sentence_id,word_id')"
   ]
  },
  {
   "cell_type": "code",
   "execution_count": 4,
   "metadata": {},
   "outputs": [],
   "source": [
    "from scripts.analyse_pwc_entity_results import *"
   ]
  },
  {
   "cell_type": "code",
   "execution_count": 5,
   "metadata": {},
   "outputs": [],
   "source": [
    "def add_id(row) :\n",
    "    section_id, para_id, sentence_id = row['section_id'], row['para_id'], row['sentence_id']\n",
    "    augmented_words = []\n",
    "    words = row['words']\n",
    "    for i, w in enumerate(words) :\n",
    "        augmented_words.append(WordPos(word=w,section_id=section_id,para_id=para_id,sentence_id=sentence_id,word_id=i))\n",
    "    return augmented_words"
   ]
  },
  {
   "cell_type": "code",
   "execution_count": 6,
   "metadata": {},
   "outputs": [],
   "source": [
    "pwc_df_sentences_v3 = pd.read_json('../data/pwc_s2_cleaned_text_v3_sentences.jsonl', lines=True)"
   ]
  },
  {
   "cell_type": "code",
   "execution_count": 7,
   "metadata": {},
   "outputs": [
    {
     "name": "stderr",
     "output_type": "stream",
     "text": [
      "314630it [00:57, 5454.58it/s]\n"
     ]
    },
    {
     "name": "stdout",
     "output_type": "stream",
     "text": [
      "314630 314630\n"
     ]
    },
    {
     "name": "stderr",
     "output_type": "stream",
     "text": [
      "100%|██████████| 314630/314630 [00:14<00:00, 21670.70it/s]\n"
     ]
    }
   ],
   "source": [
    "pwc_df_sentences_v2 = load_pwc_sentence_predictions('../data/pwc_s2_cleaned_text_v2_sentences.jsonl',\n",
    "                                                   '../outputs/pwc_s2_cleaned_text_v2_sentences_predictions.jsonl')"
   ]
  },
  {
   "cell_type": "code",
   "execution_count": 9,
   "metadata": {},
   "outputs": [],
   "source": [
    "pwc_df_sentences_v3['words'] = pwc_df_sentences_v3['sentence'].apply(lambda x : x.split())\n",
    "pwc_df_sentences_v3['aug_words'] = pwc_df_sentences_v3.apply(add_id, axis=1)"
   ]
  },
  {
   "cell_type": "code",
   "execution_count": 10,
   "metadata": {},
   "outputs": [
    {
     "name": "stderr",
     "output_type": "stream",
     "text": [
      "100%|██████████| 314630/314630 [00:21<00:00, 14800.38it/s]\n"
     ]
    }
   ],
   "source": [
    "pwc_df_sentences_v2['aug_words'] = pwc_df_sentences_v2.progress_apply(add_id, axis=1)"
   ]
  },
  {
   "cell_type": "code",
   "execution_count": 26,
   "metadata": {},
   "outputs": [],
   "source": [
    "words_s2 = pwc_df_sentences_v2.rename(columns={'aug_words' : 'x'}).groupby('doc_id')['x'].agg(lambda x : [w for y in x for w in y])\n",
    "words_s3 = pwc_df_sentences_v3.rename(columns={'aug_words' : 'y'}).groupby('doc_id')['y'].agg(lambda x : [w for y in x for w in y])"
   ]
  },
  {
   "cell_type": "code",
   "execution_count": 27,
   "metadata": {},
   "outputs": [],
   "source": [
    "concatenated = pd.concat([words_s2, words_s3], axis=1)"
   ]
  },
  {
   "cell_type": "code",
   "execution_count": 97,
   "metadata": {},
   "outputs": [],
   "source": [
    "same_sent = lambda x, y : (x['section_id'] == y['section_id']) & (x['para_id'] == y['para_id']) & (x['sentence_id'] == y['sentence_id'])\n",
    "get_pos = lambda x : (x.section_id, x.para_id, x.sentence_id, x.word_id)\n",
    "def match_lists(words_2, words_3) :\n",
    "    if len(words_2) == len(words_3) :\n",
    "        if [x.word for x in words_2] == [x.word for x in words_3] :\n",
    "            return words_3\n",
    "        else :\n",
    "            breakpoint()\n",
    "    else :\n",
    "        i, j = 0, 0\n",
    "        new_words = []\n",
    "        curr_word = words_3[j]._asdict()\n",
    "        for word in words_2 :\n",
    "            if word.word == curr_word['word'] :\n",
    "                new_words.append(WordPos(**curr_word)._asdict())\n",
    "                j += 1\n",
    "                if j >= len(words_3) : break\n",
    "                curr_word = words_3[j]._asdict()\n",
    "            elif curr_word['word'].startswith(word.word) :\n",
    "                new_words.append(WordPos(word=word.word, \n",
    "                                         section_id=curr_word['section_id'], \n",
    "                                         para_id=curr_word['para_id'], \n",
    "                                         sentence_id=curr_word['sentence_id'],\n",
    "                                         word_id=curr_word['word_id'])._asdict())\n",
    "                curr_word['word'] = curr_word['word'][len(word.word):].strip()\n",
    "            else :\n",
    "                breakpoint()\n",
    "        \n",
    "        for i, word in enumerate(new_words[:-1]) :\n",
    "            next_word = new_words[i+1]\n",
    "            if same_sent(word, next_word) and word['word_id'] >= next_word['word_id'] :\n",
    "                next_word['word_id'] = word['word_id'] + 1\n",
    "                \n",
    "        new_words = [WordPos(**x) for x in new_words]\n",
    "        assert [x.word for x in words_2] == [x.word for x in new_words]\n",
    "        for i, word in enumerate(new_words[:-1]) :\n",
    "            next_word = new_words[i+1]\n",
    "            assert get_pos(word) < get_pos(next_word)\n",
    "\n",
    "        return new_words"
   ]
  },
  {
   "cell_type": "code",
   "execution_count": 98,
   "metadata": {},
   "outputs": [
    {
     "name": "stderr",
     "output_type": "stream",
     "text": [
      "\n",
      "\n",
      "  0%|          | 0/1170 [00:00<?, ?it/s]\u001b[A\u001b[A\n",
      "\n",
      "  1%|          | 9/1170 [00:00<00:15, 73.12it/s]\u001b[A\u001b[A\n",
      "\n",
      "  2%|▏         | 25/1170 [00:00<00:13, 83.47it/s]\u001b[A\u001b[A\n",
      "\n",
      "  4%|▍         | 46/1170 [00:00<00:11, 98.50it/s]\u001b[A\u001b[A\n",
      "\n",
      "  5%|▍         | 55/1170 [00:00<00:11, 93.37it/s]\u001b[A\u001b[A\n",
      "\n",
      "  5%|▌         | 64/1170 [00:00<00:13, 81.79it/s]\u001b[A\u001b[A\n",
      "\n",
      "  8%|▊         | 93/1170 [00:00<00:10, 103.81it/s]\u001b[A\u001b[A\n",
      "\n",
      " 10%|▉         | 114/1170 [00:00<00:09, 115.75it/s]\u001b[A\u001b[A\n",
      "\n",
      " 11%|█         | 129/1170 [00:01<00:10, 98.39it/s] \u001b[A\u001b[A\n",
      "\n",
      " 12%|█▏        | 142/1170 [00:01<00:11, 85.77it/s]\u001b[A\u001b[A\n",
      "\n",
      " 13%|█▎        | 153/1170 [00:01<00:11, 89.08it/s]\u001b[A\u001b[A\n",
      "\n",
      " 14%|█▍        | 167/1170 [00:01<00:10, 91.20it/s]\u001b[A\u001b[A\n",
      "\n",
      " 16%|█▋        | 193/1170 [00:01<00:08, 113.14it/s]\u001b[A\u001b[A\n",
      "\n",
      " 18%|█▊        | 209/1170 [00:01<00:08, 112.27it/s]\u001b[A\u001b[A\n",
      "\n",
      " 19%|█▉        | 223/1170 [00:01<00:08, 109.39it/s]\u001b[A\u001b[A\n",
      "\n",
      " 20%|██        | 236/1170 [00:02<00:12, 75.15it/s] \u001b[A\u001b[A\n",
      "\n",
      " 22%|██▏       | 256/1170 [00:02<00:10, 86.11it/s]\u001b[A\u001b[A\n",
      "\n",
      " 23%|██▎       | 271/1170 [00:02<00:09, 93.52it/s]\u001b[A\u001b[A\n",
      "\n",
      " 24%|██▍       | 284/1170 [00:02<00:09, 97.65it/s]\u001b[A\u001b[A\n",
      "\n",
      " 25%|██▌       | 296/1170 [00:02<00:09, 96.72it/s]\u001b[A\u001b[A\n",
      "\n",
      " 27%|██▋       | 321/1170 [00:02<00:07, 118.34it/s]\u001b[A\u001b[A\n",
      "\n",
      " 29%|██▉       | 337/1170 [00:02<00:07, 112.65it/s]\u001b[A\u001b[A\n",
      "\n",
      " 30%|███       | 351/1170 [00:03<00:09, 88.91it/s] \u001b[A\u001b[A\n",
      "\n",
      " 33%|███▎      | 389/1170 [00:03<00:06, 115.23it/s]\u001b[A\u001b[A\n",
      "\n",
      " 35%|███▍      | 409/1170 [00:03<00:05, 129.04it/s]\u001b[A\u001b[A\n",
      "\n",
      " 38%|███▊      | 439/1170 [00:03<00:05, 143.69it/s]\u001b[A\u001b[A\n",
      "\n",
      " 39%|███▉      | 458/1170 [00:03<00:04, 151.16it/s]\u001b[A\u001b[A\n",
      "\n",
      " 42%|████▏     | 488/1170 [00:03<00:03, 177.32it/s]\u001b[A\u001b[A\n",
      "\n",
      " 44%|████▎     | 510/1170 [00:04<00:04, 144.49it/s]\u001b[A\u001b[A\n",
      "\n",
      " 45%|████▌     | 532/1170 [00:04<00:03, 160.92it/s]\u001b[A\u001b[A\n",
      "\n",
      " 48%|████▊     | 567/1170 [00:04<00:03, 191.89it/s]\u001b[A\u001b[A\n",
      "\n",
      " 51%|█████     | 592/1170 [00:04<00:02, 193.13it/s]\u001b[A\u001b[A\n",
      "\n",
      " 53%|█████▎    | 615/1170 [00:04<00:03, 149.60it/s]\u001b[A\u001b[A\n",
      "\n",
      " 57%|█████▋    | 668/1170 [00:04<00:02, 190.61it/s]\u001b[A\u001b[A\n",
      "\n",
      " 60%|█████▉    | 700/1170 [00:04<00:02, 215.99it/s]\u001b[A\u001b[A\n",
      "\n",
      " 62%|██████▏   | 730/1170 [00:04<00:02, 193.17it/s]\u001b[A\u001b[A\n",
      "\n",
      " 65%|██████▍   | 756/1170 [00:05<00:02, 184.19it/s]\u001b[A\u001b[A\n",
      "\n",
      " 67%|██████▋   | 779/1170 [00:05<00:02, 140.47it/s]\u001b[A\u001b[A\n",
      "\n",
      " 68%|██████▊   | 798/1170 [00:05<00:03, 120.39it/s]\u001b[A\u001b[A\n",
      "\n",
      " 70%|██████▉   | 814/1170 [00:05<00:03, 110.84it/s]\u001b[A\u001b[A\n",
      "\n",
      " 72%|███████▏  | 838/1170 [00:05<00:02, 123.07it/s]\u001b[A\u001b[A\n",
      "\n",
      " 73%|███████▎  | 853/1170 [00:06<00:02, 124.00it/s]\u001b[A\u001b[A\n",
      "\n",
      " 75%|███████▌  | 883/1170 [00:06<00:01, 150.19it/s]\u001b[A\u001b[A\n",
      "\n",
      " 77%|███████▋  | 902/1170 [00:06<00:02, 133.97it/s]\u001b[A\u001b[A\n",
      "\n",
      " 81%|████████▏ | 951/1170 [00:06<00:01, 171.16it/s]\u001b[A\u001b[A\n",
      "\n",
      " 84%|████████▍ | 981/1170 [00:06<00:00, 196.01it/s]\u001b[A\u001b[A\n",
      "\n",
      " 86%|████████▌ | 1009/1170 [00:06<00:00, 193.27it/s]\u001b[A\u001b[A\n",
      "\n",
      " 89%|████████▉ | 1039/1170 [00:06<00:00, 215.49it/s]\u001b[A\u001b[A\n",
      "\n",
      " 91%|█████████ | 1066/1170 [00:06<00:00, 220.68it/s]\u001b[A\u001b[A\n",
      "\n",
      " 93%|█████████▎| 1092/1170 [00:07<00:00, 213.53it/s]\u001b[A\u001b[A\n",
      "\n",
      " 95%|█████████▌| 1116/1170 [00:07<00:00, 207.50it/s]\u001b[A\u001b[A\n",
      "\n",
      " 97%|█████████▋| 1139/1170 [00:07<00:00, 196.37it/s]\u001b[A\u001b[A\n",
      "\n",
      "100%|█████████▉| 1169/1170 [00:07<00:00, 179.68it/s]\u001b[A\u001b[A\n",
      "\n",
      "100%|██████████| 1170/1170 [00:07<00:00, 156.45it/s]\u001b[A\u001b[A"
     ]
    },
    {
     "data": {
      "text/plain": [
       "doc_id\n",
       "000f90380d768a85e2316225854fc377c079b5c4    [(Full, 0, 0, 0, 0), (-, 0, 0, 0, 1), (Resolut...\n",
       "0012de6bec1f25599e4f02517637e531a71909b9    [(document, 0, 0, 0, 0), (:, 0, 0, 0, 1), (V, ...\n",
       "007ab5528b3bd310a80d553cccad4b78dc496b02    [(document, 0, 0, 0, 0), (:, 0, 0, 0, 1), (Bi,...\n",
       "007ff2ca5f297b04636699ce4d01ca6d6f21dc77    [(document, 0, 0, 0, 0), (:, 0, 0, 0, 1), (Att...\n",
       "0095c269e7d0c990249312687fc43521019809c4    [(document, 0, 0, 0, 0), (:, 0, 0, 0, 1), (Mod...\n",
       "00b1cdc5bd77bf27f9b1ca630365eeeb456913b4    [(document, 0, 0, 0, 0), (:, 0, 0, 0, 1), (Mas...\n",
       "01125e3c68edb420b8d884ff53fb38d9fbe4f2b8    [(document, 0, 0, 0, 0), (:, 0, 0, 0, 1), (Lar...\n",
       "0116899fce00ffa4afee08b505300bb3968faf9f    [(Long, 0, 0, 0, 0), (Text, 0, 0, 0, 1), (Gene...\n",
       "0171bdeb1c6e333287be655c667cfba5edb89b76    [(Aggregated, 0, 0, 0, 0), (Residual, 0, 0, 0,...\n",
       "01959ef569f74c286956024866c1d107099199f7    [(VQA, 0, 0, 0, 0), (:, 0, 0, 0, 1), (Visual, ...\n",
       "01c824989d24a8cae214c3156edd9d4492faa579    [(document, 0, 0, 0, 0), (:, 0, 0, 0, 1), (Sta...\n",
       "0209389b8369aaa2a08830ac3b2036d4901ba1f1    [(document, 0, 0, 0, 0), (:, 0, 0, 0, 1), (Den...\n",
       "020a9aba95bce75dca08e3c499efc9e100f1cbb6    [(document, 0, 0, 0, 0), (:, 0, 0, 0, 1), (Inc...\n",
       "0217fb2a54a4f324ddf82babc6ec6692a3f6194f    [(InfoGAN, 0, 0, 0, 0), (:, 0, 0, 0, 1), (Inte...\n",
       "023cc7f9f3544436553df9548a7d0575bb309c2e    [(document, 0, 0, 0, 0), (:, 0, 0, 0, 1), (Bag...\n",
       "02567fd428a675ca91a0c6786f47f3e35881bcbd    [(document, 0, 0, 0, 0), (:, 0, 0, 0, 1), (Dee...\n",
       "027d6c52be01b583b9a0d9eb8c9364c6b701c656    [(document, 0, 0, 0, 0), (:, 0, 0, 0, 1), (All...\n",
       "027f9695189355d18ec6be8e48f3d23ea25db35d    [(Learning, 0, 0, 0, 0), (to, 0, 0, 0, 1), (Co...\n",
       "02a5b7a41ffa8518eb3b7cae9914a2bd2bbc886b    [(Fast, 0, 0, 0, 0), (Online, 0, 0, 0, 1), (Ob...\n",
       "02b3d1d162080d9aefd3fc30a0bcc9a843073b5d    [(In, 0, 1, 0, 0), (this, 0, 1, 0, 1), (work, ...\n",
       "02e85d62fbd8249a046d00ac10e39546511b2a51    [(document, 0, 0, 0, 0), (:, 0, 0, 0, 1), (Eff...\n",
       "03184ac97ebf0724c45a29ab49f2a8ce59ac2de3    [(document, 0, 0, 0, 0), (:, 0, 0, 0, 1), (Eva...\n",
       "0373b97580cdfd0b69f165e1a946bae62da95dce    [(document, 0, 0, 0, 0), (:, 0, 0, 0, 1), (Dee...\n",
       "0398552184f80db111e9c28bf533b395f233ac00    [(Bridging, 0, 0, 0, 0), (Saliency, 0, 0, 0, 1...\n",
       "03a5b2aac53443e6078f0f63b35d4f95d6d54c5d    [(document, 0, 0, 0, 0), (:, 0, 0, 0, 1), (Rea...\n",
       "04320b6d3e6e50a5faf0e54ae2b8b8739445a026    [(document, 0, 0, 0, 0), (:, 0, 0, 0, 1), (Pos...\n",
       "04640006606ddfb9d6aa4ce8f55855b1f23ec7ed    [(document, 0, 0, 0, 0), (:, 0, 0, 0, 1), (Wid...\n",
       "04957e40d47ca89d38653e97f728883c0ad26e5d    [(Cascade, 0, 0, 0, 0), (R, 0, 0, 0, 1), (-, 0...\n",
       "0496691c6d54fd746c111d1004349acf7654145e    [(CALIBRATING, 0, 0, 0, 0), (ENERGY, 0, 0, 0, ...\n",
       "051b3763c2ad4e4271db712b0e9a4cfe298d05db    [(document, 0, 0, 0, 0), (:, 0, 0, 0, 1), (Lit...\n",
       "                                                                  ...                        \n",
       "f8e857063914c58df6d3eec24b79355619cf01d4    [(Dual, 0, 0, 0, 0), (-, 0, 0, 0, 1), (Agent, ...\n",
       "f8eb2f58d8cf96d11252f158222266bdaa0ccdbf    [(document, 0, 0, 0, 0), (:, 0, 0, 0, 1), (Com...\n",
       "f93a0a3e8a3e6001b4482430254595cf737697fa    [(document, 0, 0, 0, 0), (:, 0, 0, 0, 1), (Lea...\n",
       "f98a78700df4d99ffbb6da8a9f425252eda0e2df    [(document, 0, 0, 0, 0), (:, 0, 0, 0, 1), (Dee...\n",
       "f98f09fa0387f50c5441ee00d1e2909d2fde4b7c    [(Graph, 0, 1, 0, 0), (Convolutional, 0, 1, 0,...\n",
       "f997aec8bdb186b098b7e32d71e0adb2e993cd48    [(document, 0, 0, 0, 0), (:, 0, 0, 0, 1), (Voi...\n",
       "fa23d1528f8e6808c29a18b22b57c7da8789f933    [(document, 0, 0, 0, 0), (:, 0, 0, 0, 1), (Bey...\n",
       "fa5fed15fa7d4e16a14f297385f7183425840130    [(document, 0, 0, 0, 0), (:, 0, 0, 0, 1), (Eff...\n",
       "fa97cef65ca52fc4d98d1218dadbdd86a6783033    [(document, 0, 0, 0, 0), (:, 0, 0, 0, 1), (The...\n",
       "fafe7c7aa0a19d40bbbf08b9e87d650438b01b67    [(document, 0, 0, 0, 0), (:, 0, 0, 0, 1), (3DM...\n",
       "fb26fdf16f5b5cde1b01b4f7ecf6b2330bac9f40    [(document, 0, 0, 0, 0), (:, 0, 0, 0, 1), (Lea...\n",
       "fb37561499573109fc2cebb6a7b08f44917267dd    [(Squeeze, 0, 0, 0, 0), (-, 0, 0, 0, 1), (and,...\n",
       "fb488de498471771503aa3b3c2ae1323d3ce83d7    [(Automatic, 0, 0, 0, 0), (skin, 0, 0, 0, 1), ...\n",
       "fbace36d9161fbd062eefa0c005362bb210c7097    [(document, 0, 0, 0, 0), (:, 0, 0, 0, 1), (VPG...\n",
       "fbba8629ff9633ca57be1f2209d53d9bcfc2273c    [(Compare, 0, 0, 0, 0), (,, 0, 0, 0, 1), (Comp...\n",
       "fc42c887dfc356e42a9a22aa4b9bc41312cf04e8    [(document, 0, 0, 0, 0), (:, 0, 0, 0, 1), (Dee...\n",
       "fc9a3dc93de4cfda1819bdbb40025fd501b0ed51    [(document, 0, 0, 0, 0), (:, 0, 0, 0, 1), (CES...\n",
       "fca9ebaa30d69ccec8bb577c31693c936c869e72    [(document, 0, 0, 0, 0), (:, 0, 0, 0, 1), (Loo...\n",
       "fcdf5055c902ec2d1570e598121f980a71fb90ca    [(document, 0, 0, 0, 0), (:, 0, 0, 0, 1), (Det...\n",
       "fd45156f3921d78bb1215591781c6d0f38d571c6    [(Mixing, 0, 0, 0, 0), (Context, 0, 0, 0, 1), ...\n",
       "fd577c0b62d4d2d2d088566ab7e87bfd2d5a43f1    [(document, 0, 0, 0, 0), (:, 0, 0, 0, 1), (Dee...\n",
       "fd88cac47c529b092b8b0659328c40859b43aafb    [(document, 0, 0, 0, 0), (:, 0, 0, 0, 1), (Cor...\n",
       "fdeff204275511d39727425b2341b077688b9024    [(document, 0, 0, 0, 0), (:, 0, 0, 0, 1), (Pro...\n",
       "fe3bd3fbbee94259b6bf75b578a5615d1d1faa73    [(Sliced, 0, 0, 0, 0), (Wasserstein, 0, 0, 0, ...\n",
       "fe43718615a42203fba88e7752fba10cda3e230a    [(document, 0, 0, 0, 0), (:, 0, 0, 0, 1), (Era...\n",
       "fe466e84fa2e838adc3c37ee327cd68004ae08fe    [(document, 0, 0, 0, 0), (:, 0, 0, 0, 1), (MUT...\n",
       "fe48f0e43dbdeeaf4a03b3837e27f6705783e576    [(Supervised, 0, 0, 0, 0), (Transformer, 0, 0,...\n",
       "ff7b9fbbbdc78d874fa93134d643a5a0295f648f    [(document, 0, 0, 0, 0), (:, 0, 0, 0, 1), (Bui...\n",
       "ffcbc7fe00fc7f21b174d3addf1c61939b78b9e5    [(document, 0, 0, 0, 0), (:, 0, 0, 0, 1), (A, ...\n",
       "ffe6a1fdd2e6034ca613f7723a44722cc0562197    [(document, 0, 0, 0, 0), (:, 0, 0, 0, 1), (Par...\n",
       "Length: 1170, dtype: object"
      ]
     },
     "execution_count": 98,
     "metadata": {},
     "output_type": "execute_result"
    }
   ],
   "source": [
    "concatenated.progress_apply(lambda x: match_lists(x['x'], x['y']), axis=1)"
   ]
  },
  {
   "cell_type": "code",
   "execution_count": null,
   "metadata": {},
   "outputs": [],
   "source": [
    "pwc_df_sentences_v2[(pwc_df_sentences_v2['words'].apply(lambda x : \" \".join(x)) != pwc_df_sentences_v2['sentence'])]"
   ]
  },
  {
   "cell_type": "code",
   "execution_count": null,
   "metadata": {},
   "outputs": [],
   "source": [
    "pwc_df_sentences_v2['words'] = pwc_df_sentences_v2['sentence'].apply(lambda x : x.split())"
   ]
  },
  {
   "cell_type": "code",
   "execution_count": null,
   "metadata": {},
   "outputs": [],
   "source": [
    "def map_sentences(words_1, words_2) :\n",
    "    assert [x.word for x in words_1] == [x.word for x in words_2]\n",
    "    return None"
   ]
  },
  {
   "cell_type": "code",
   "execution_count": null,
   "metadata": {},
   "outputs": [],
   "source": [
    "pwc_df_v2 = pd.read_json('../data/pwc_s2_cleaned_text_v2.jsonl', lines=True)\n",
    "pwc_df_v3 = pd.read_json('../data/pwc_s2_cleaned_text_v3.jsonl', lines=True)"
   ]
  },
  {
   "cell_type": "code",
   "execution_count": null,
   "metadata": {},
   "outputs": [],
   "source": [
    "s2 = pwc_df_sentences_v2.rename(columns={'aug_words' : 'x'}).groupby('doc_id')['x'].apply(lambda x : [w for y in x for w in y])\n",
    "s3 = pwc_df_sentences_v3.rename(columns={'aug_words' : 'y'}).groupby('doc_id')['y'].apply(lambda x : [w for y in x for w in y])"
   ]
  },
  {
   "cell_type": "code",
   "execution_count": null,
   "metadata": {},
   "outputs": [],
   "source": [
    "concat = pd.concat([s2, s3], axis=1)"
   ]
  },
  {
   "cell_type": "code",
   "execution_count": null,
   "metadata": {},
   "outputs": [],
   "source": []
  }
 ],
 "metadata": {
  "kernelspec": {
   "display_name": "Python 3",
   "language": "python",
   "name": "python3"
  },
  "language_info": {
   "codemirror_mode": {
    "name": "ipython",
    "version": 3
   },
   "file_extension": ".py",
   "mimetype": "text/x-python",
   "name": "python",
   "nbconvert_exporter": "python",
   "pygments_lexer": "ipython3",
   "version": "3.7.3"
  }
 },
 "nbformat": 4,
 "nbformat_minor": 2
}
