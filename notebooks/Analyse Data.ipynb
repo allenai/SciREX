{
 "cells": [
  {
   "cell_type": "code",
   "execution_count": null,
   "metadata": {},
   "outputs": [],
   "source": [
    "%load_ext autoreload\n",
    "%autoreload 2\n",
    "from scripts.analyse_pwc_entity_results import *"
   ]
  },
  {
   "cell_type": "code",
   "execution_count": null,
   "metadata": {},
   "outputs": [],
   "source": [
    "pwc_df, pwc_sentences = get_pwc_data_and_output(\n",
    "    '../data/pwc_s2_cleaned_text_v2.jsonl', \n",
    "    '../data/pwc_s2_cleaned_text_v2_sentences.jsonl', \n",
    "    '../outputs/pwc_s2_cleaned_text_v2_sentences_predictions.jsonl'\n",
    ")"
   ]
  },
  {
   "cell_type": "markdown",
   "metadata": {},
   "source": [
    "Best Model for Exact Match in Concatenated Predicted Entities\n",
    "============================================================="
   ]
  },
  {
   "cell_type": "code",
   "execution_count": null,
   "metadata": {},
   "outputs": [],
   "source": [
    "results = get_result_matrix_for_match_method(pwc_df, pwc_sentences, exact_match_in_concatenated)\n",
    "results.loc[results.groupby('true')['recall_predicted'].idxmax()]"
   ]
  },
  {
   "cell_type": "markdown",
   "metadata": {},
   "source": [
    "Best Model for Exact Match With Any Individual Predicted Entities\n",
    "============================================================="
   ]
  },
  {
   "cell_type": "code",
   "execution_count": null,
   "metadata": {},
   "outputs": [],
   "source": [
    "results = get_result_matrix_for_match_method(pwc_df, pwc_sentences, exact_match_with_any)\n",
    "results.loc[results.groupby('true')['recall_predicted'].idxmax()]"
   ]
  },
  {
   "cell_type": "markdown",
   "metadata": {},
   "source": [
    "Best Model for Exact Match in Any Individual Predicted Entities\n",
    "============================================================="
   ]
  },
  {
   "cell_type": "code",
   "execution_count": null,
   "metadata": {},
   "outputs": [],
   "source": [
    "results = get_result_matrix_for_match_method(pwc_df, pwc_sentences, exact_match_in_any)\n",
    "results.loc[results.groupby('true')['recall_predicted'].idxmax()]"
   ]
  },
  {
   "cell_type": "code",
   "execution_count": null,
   "metadata": {},
   "outputs": [],
   "source": [
    "results = get_result_matrix_for_match_method(pwc_df, pwc_sentences, lambda x, y : fuzzy_match_with_any(x, y, 80))\n",
    "results.loc[results.groupby('true')['recall_predicted'].idxmax()]"
   ]
  }
 ],
 "metadata": {
  "kernelspec": {
   "display_name": "Python 3",
   "language": "python",
   "name": "python3"
  },
  "language_info": {
   "codemirror_mode": {
    "name": "ipython",
    "version": 3
   },
   "file_extension": ".py",
   "mimetype": "text/x-python",
   "name": "python",
   "nbconvert_exporter": "python",
   "pygments_lexer": "ipython3",
   "version": "3.7.3"
  }
 },
 "nbformat": 4,
 "nbformat_minor": 4
}
