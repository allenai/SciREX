{
 "cells": [
  {
   "cell_type": "code",
   "execution_count": 2,
   "metadata": {},
   "outputs": [],
   "source": [
    "import pandas as pd\n",
    "from scripts.convert_to_excel import match, dematch"
   ]
  },
  {
   "cell_type": "code",
   "execution_count": 3,
   "metadata": {},
   "outputs": [],
   "source": [
    "df_1 = pd.read_json('data/pwc_s2_cleaned_text.jsonl', lines=True)"
   ]
  },
  {
   "cell_type": "code",
   "execution_count": 4,
   "metadata": {},
   "outputs": [
    {
     "data": {
      "text/plain": [
       "216"
      ]
     },
     "execution_count": 4,
     "metadata": {},
     "output_type": "execute_result"
    }
   ],
   "source": [
    "len(df_1['task'].unique())"
   ]
  },
  {
   "cell_type": "code",
   "execution_count": 5,
   "metadata": {},
   "outputs": [],
   "source": [
    "df = pd.read_json('outputs/sampled_for_labelling.jsonl', lines=True)"
   ]
  },
  {
   "cell_type": "code",
   "execution_count": 6,
   "metadata": {},
   "outputs": [],
   "source": [
    "from openpyxl import load_workbook"
   ]
  },
  {
   "cell_type": "code",
   "execution_count": 7,
   "metadata": {},
   "outputs": [],
   "source": [
    "wb = load_workbook('outputs/data_for_annotation_final.xlsx')\n",
    "sh1 = wb['Sheet1']"
   ]
  },
  {
   "cell_type": "code",
   "execution_count": 8,
   "metadata": {},
   "outputs": [],
   "source": [
    "from collections import defaultdict\n",
    "json_vals = defaultdict(dict)\n",
    "predicted_entity_cols = list(range(6, 218))\n",
    "for row in range(2, 41 + 1) :\n",
    "    row_id = sh1.cell(row, 2).value\n",
    "    entity_type = sh1.cell(row, 3).value\n",
    "    val = {'true_entities' : sh1.cell(row, 4).value.split(',') }\n",
    "    predicted_entities = [sh1.cell(row, x) for x in predicted_entity_cols]\n",
    "    predicted_entities = [(x.value, True if x.fill.bgColor.rgb != '00000000' else False) for x in predicted_entities if x.value is not None]\n",
    "    val['predicted'] = predicted_entities\n",
    "    json_vals[row_id][entity_type + '_labeled'] = val['true_entities']\n",
    "    json_vals[row_id][dematch[entity_type] + '_labeled'] = val['predicted']"
   ]
  },
  {
   "cell_type": "code",
   "execution_count": 9,
   "metadata": {},
   "outputs": [],
   "source": [
    "import pandas as pd\n",
    "df_labeled = pd.DataFrame(json_vals).transpose().reset_index().rename(columns={'index' : 's2_paper_id'})"
   ]
  },
  {
   "cell_type": "code",
   "execution_count": 10,
   "metadata": {},
   "outputs": [],
   "source": [
    "merged_df = df.merge(df_labeled, on='s2_paper_id')"
   ]
  },
  {
   "cell_type": "code",
   "execution_count": 43,
   "metadata": {},
   "outputs": [],
   "source": [
    "import re\n",
    "\n",
    "def jaccard_similarity(list1, list2):\n",
    "    s1 = set(list1)\n",
    "    s2 = set(list2)\n",
    "    return len(s1.intersection(s2)) / len(s1.union(s2))\n",
    "\n",
    "clean_text = lambda w : re.sub(r'\\s+', ' ', re.sub(r'[^\\w\\s\\.]', ' ', w)).split()\n",
    "get_n_grams = lambda w_list, n : [w[i:i+n] for w in w_list for i in range(len(w)-n+1)]\n",
    "get_abbr_n_grams = lambda w_list, n : [\"\".join([w[0] for w in w_list[i:i+n]]) for i in range(len(w_list)-n+1)]\n",
    "\n",
    "def char_sim(w1:str, w2:str, ng:int = 3, with_abbr:bool = False) :\n",
    "    w1, w2 = clean_text(w1), clean_text(w2)\n",
    "    ng = min(min([len(x) for x in w1 + w2]), ng)\n",
    "    score_1 = jaccard_similarity(get_n_grams(w1, ng), get_n_grams(w2, ng))\n",
    "    score_2 = jaccard_similarity(get_abbr_n_grams(w1, ng), get_n_grams(w2, ng)) if with_abbr else 0\n",
    "    score_3 = jaccard_similarity(get_n_grams(w1, ng), get_abbr_n_grams(w2, ng)) if with_abbr else 0\n",
    "    return max(score_1, score_2, score_3)\n",
    "\n",
    "from fuzzywuzzy import fuzz\n",
    "def fuzzy_match_with_any(w1:str, w2:str) :\n",
    "    return fuzz.token_sort_ratio(\" \".join(clean_text(w1)), \" \".join(clean_text(w2))) / 100"
   ]
  },
  {
   "cell_type": "code",
   "execution_count": 44,
   "metadata": {},
   "outputs": [],
   "source": [
    "def compare_true_and_predicted_labels(l1, l2, similarity_function) :\n",
    "    scores = []\n",
    "    for w, b in l2 :\n",
    "        scores.append((w, b, max([similarity_function(w, x) for x in l1])))\n",
    "    return scores"
   ]
  },
  {
   "cell_type": "code",
   "execution_count": 45,
   "metadata": {},
   "outputs": [],
   "source": [
    "def get_scores(row, similarity_function) :\n",
    "    for k, v in match.items() :\n",
    "        row[k + '_scored'] = compare_true_and_predicted_labels(row[v + '_labeled'], row[k + '_labeled'], similarity_function)\n",
    "    return row"
   ]
  },
  {
   "cell_type": "code",
   "execution_count": 46,
   "metadata": {},
   "outputs": [],
   "source": [
    "import numpy as np\n",
    "import seaborn as sns\n",
    "import matplotlib.pyplot as plt\n",
    "%config InlineBackend.figure_format = 'retina'"
   ]
  },
  {
   "cell_type": "code",
   "execution_count": 47,
   "metadata": {},
   "outputs": [],
   "source": [
    "def generate_stats() :\n",
    "    stats = []\n",
    "    for threshold in np.linspace(0, 1, 100) :\n",
    "        for k, v in match.items() :\n",
    "            n_true = len([x for y in scored_df[k + '_scored'] for x in y if x[1] == True])\n",
    "            n_pred = len([x for y in scored_df[k + '_scored'] for x in y if x[2] > threshold])\n",
    "            actual_pred = len([x for y in scored_df[k + '_scored'] for x in y])\n",
    "            true_pred = len([x for y in scored_df[k + '_scored'] for x in y if (x[1] == True) & (x[2] > threshold)])\n",
    "            stats.append({\n",
    "                'task' : k, 'thresh' : threshold, \n",
    "                'n_true' : n_true, 'n_pred' : n_pred, \n",
    "                'true_pred' : true_pred, 'recall' : true_pred / n_true if n_true > 0 else 0, 'precision' : true_pred / n_pred if n_pred > 0 else 0})\n",
    "\n",
    "    stats = pd.DataFrame(stats)\n",
    "    stats['f1'] = (2 * stats['precision'] * stats['recall']) / (stats['precision'] + stats['recall'])\n",
    "    best_stats = stats.loc[stats.groupby('task')['f1'].idxmax()]\n",
    "    return best_stats\n",
    "\n",
    "def plot_similarity_histograms() :\n",
    "    new_frame = []\n",
    "    for k in match.keys() :\n",
    "        new_frame += [(k, x[1], x[2]) for y in scored_df[k + '_scored'] for x in y]\n",
    "\n",
    "    sns.boxenplot(data=pd.DataFrame(new_frame), x=0, y=2, hue=1)\n",
    "    plt.xlabel('Entity')\n",
    "    plt.ylabel('sim')\n",
    "    plt.legend(title='True label', loc='center left', bbox_to_anchor=(1, 0.5))\n",
    "    plt.show()"
   ]
  },
  {
   "cell_type": "code",
   "execution_count": 50,
   "metadata": {},
   "outputs": [
    {
     "data": {
      "image/png": "[encoded data removed]",
      "text/plain": [
       "<Figure size 432x288 with 1 Axes>"
      ]
     },
     "metadata": {
      "image/png": {
       "height": 261,
       "width": 452
      },
      "needs_background": "light"
     },
     "output_type": "display_data"
    },
    {
     "data": {
      "text/html": [
       "<div>\n",
       "<style scoped>\n",
       "    .dataframe tbody tr th:only-of-type {\n",
       "        vertical-align: middle;\n",
       "    }\n",
       "\n",
       "    .dataframe tbody tr th {\n",
       "        vertical-align: top;\n",
       "    }\n",
       "\n",
       "    .dataframe thead th {\n",
       "        text-align: right;\n",
       "    }\n",
       "</style>\n",
       "<table border=\"1\" class=\"dataframe\">\n",
       "  <thead>\n",
       "    <tr style=\"text-align: right;\">\n",
       "      <th></th>\n",
       "      <th>n_pred</th>\n",
       "      <th>n_true</th>\n",
       "      <th>precision</th>\n",
       "      <th>recall</th>\n",
       "      <th>task</th>\n",
       "      <th>thresh</th>\n",
       "      <th>true_pred</th>\n",
       "      <th>f1</th>\n",
       "    </tr>\n",
       "  </thead>\n",
       "  <tbody>\n",
       "    <tr>\n",
       "      <th>80</th>\n",
       "      <td>34</td>\n",
       "      <td>28</td>\n",
       "      <td>0.676471</td>\n",
       "      <td>0.821429</td>\n",
       "      <td>Material</td>\n",
       "      <td>0.202020</td>\n",
       "      <td>23</td>\n",
       "      <td>0.741935</td>\n",
       "    </tr>\n",
       "    <tr>\n",
       "      <th>141</th>\n",
       "      <td>58</td>\n",
       "      <td>44</td>\n",
       "      <td>0.586207</td>\n",
       "      <td>0.772727</td>\n",
       "      <td>Method</td>\n",
       "      <td>0.353535</td>\n",
       "      <td>34</td>\n",
       "      <td>0.666667</td>\n",
       "    </tr>\n",
       "    <tr>\n",
       "      <th>46</th>\n",
       "      <td>47</td>\n",
       "      <td>37</td>\n",
       "      <td>0.744681</td>\n",
       "      <td>0.945946</td>\n",
       "      <td>Metric</td>\n",
       "      <td>0.111111</td>\n",
       "      <td>35</td>\n",
       "      <td>0.833333</td>\n",
       "    </tr>\n",
       "    <tr>\n",
       "      <th>147</th>\n",
       "      <td>68</td>\n",
       "      <td>56</td>\n",
       "      <td>0.735294</td>\n",
       "      <td>0.892857</td>\n",
       "      <td>Task</td>\n",
       "      <td>0.363636</td>\n",
       "      <td>50</td>\n",
       "      <td>0.806452</td>\n",
       "    </tr>\n",
       "  </tbody>\n",
       "</table>\n",
       "</div>"
      ],
      "text/plain": [
       "     n_pred  n_true  precision    recall      task    thresh  true_pred  \\\n",
       "80       34      28   0.676471  0.821429  Material  0.202020         23   \n",
       "141      58      44   0.586207  0.772727    Method  0.353535         34   \n",
       "46       47      37   0.744681  0.945946    Metric  0.111111         35   \n",
       "147      68      56   0.735294  0.892857      Task  0.363636         50   \n",
       "\n",
       "           f1  \n",
       "80   0.741935  \n",
       "141  0.666667  \n",
       "46   0.833333  \n",
       "147  0.806452  "
      ]
     },
     "execution_count": 50,
     "metadata": {},
     "output_type": "execute_result"
    }
   ],
   "source": [
    "scored_df = merged_df.apply(lambda row : get_scores(row, lambda x, y : char_sim(x, y, 3, True)), axis=1)\n",
    "plot_similarity_histograms()\n",
    "generate_stats()"
   ]
  },
  {
   "cell_type": "code",
   "execution_count": 49,
   "metadata": {},
   "outputs": [
    {
     "data": {
      "image/png": "[encoded data removed]",
      "text/plain": [
       "<Figure size 432x288 with 1 Axes>"
      ]
     },
     "metadata": {
      "image/png": {
       "height": 261,
       "width": 452
      },
      "needs_background": "light"
     },
     "output_type": "display_data"
    },
    {
     "data": {
      "text/html": [
       "<div>\n",
       "<style scoped>\n",
       "    .dataframe tbody tr th:only-of-type {\n",
       "        vertical-align: middle;\n",
       "    }\n",
       "\n",
       "    .dataframe tbody tr th {\n",
       "        vertical-align: top;\n",
       "    }\n",
       "\n",
       "    .dataframe thead th {\n",
       "        text-align: right;\n",
       "    }\n",
       "</style>\n",
       "<table border=\"1\" class=\"dataframe\">\n",
       "  <thead>\n",
       "    <tr style=\"text-align: right;\">\n",
       "      <th></th>\n",
       "      <th>n_pred</th>\n",
       "      <th>n_true</th>\n",
       "      <th>precision</th>\n",
       "      <th>recall</th>\n",
       "      <th>task</th>\n",
       "      <th>thresh</th>\n",
       "      <th>true_pred</th>\n",
       "      <th>f1</th>\n",
       "    </tr>\n",
       "  </thead>\n",
       "  <tbody>\n",
       "    <tr>\n",
       "      <th>80</th>\n",
       "      <td>34</td>\n",
       "      <td>28</td>\n",
       "      <td>0.676471</td>\n",
       "      <td>0.821429</td>\n",
       "      <td>Material</td>\n",
       "      <td>0.202020</td>\n",
       "      <td>23</td>\n",
       "      <td>0.741935</td>\n",
       "    </tr>\n",
       "    <tr>\n",
       "      <th>149</th>\n",
       "      <td>50</td>\n",
       "      <td>44</td>\n",
       "      <td>0.660000</td>\n",
       "      <td>0.750000</td>\n",
       "      <td>Method</td>\n",
       "      <td>0.373737</td>\n",
       "      <td>33</td>\n",
       "      <td>0.702128</td>\n",
       "    </tr>\n",
       "    <tr>\n",
       "      <th>46</th>\n",
       "      <td>44</td>\n",
       "      <td>37</td>\n",
       "      <td>0.795455</td>\n",
       "      <td>0.945946</td>\n",
       "      <td>Metric</td>\n",
       "      <td>0.111111</td>\n",
       "      <td>35</td>\n",
       "      <td>0.864198</td>\n",
       "    </tr>\n",
       "    <tr>\n",
       "      <th>147</th>\n",
       "      <td>64</td>\n",
       "      <td>56</td>\n",
       "      <td>0.765625</td>\n",
       "      <td>0.875000</td>\n",
       "      <td>Task</td>\n",
       "      <td>0.363636</td>\n",
       "      <td>49</td>\n",
       "      <td>0.816667</td>\n",
       "    </tr>\n",
       "  </tbody>\n",
       "</table>\n",
       "</div>"
      ],
      "text/plain": [
       "     n_pred  n_true  precision    recall      task    thresh  true_pred  \\\n",
       "80       34      28   0.676471  0.821429  Material  0.202020         23   \n",
       "149      50      44   0.660000  0.750000    Method  0.373737         33   \n",
       "46       44      37   0.795455  0.945946    Metric  0.111111         35   \n",
       "147      64      56   0.765625  0.875000      Task  0.363636         49   \n",
       "\n",
       "           f1  \n",
       "80   0.741935  \n",
       "149  0.702128  \n",
       "46   0.864198  \n",
       "147  0.816667  "
      ]
     },
     "execution_count": 49,
     "metadata": {},
     "output_type": "execute_result"
    }
   ],
   "source": [
    "scored_df = merged_df.apply(lambda row : get_scores(row, lambda x, y : char_sim(x, y, 3, False)), axis=1)\n",
    "plot_similarity_histograms()\n",
    "generate_stats()"
   ]
  },
  {
   "cell_type": "code",
   "execution_count": 32,
   "metadata": {},
   "outputs": [
    {
     "data": {
      "image/png": "[encoded data removed]",
      "text/plain": [
       "<Figure size 432x288 with 1 Axes>"
      ]
     },
     "metadata": {
      "image/png": {
       "height": 261,
       "width": 452
      },
      "needs_background": "light"
     },
     "output_type": "display_data"
    },
    {
     "data": {
      "text/html": [
       "<div>\n",
       "<style scoped>\n",
       "    .dataframe tbody tr th:only-of-type {\n",
       "        vertical-align: middle;\n",
       "    }\n",
       "\n",
       "    .dataframe tbody tr th {\n",
       "        vertical-align: top;\n",
       "    }\n",
       "\n",
       "    .dataframe thead th {\n",
       "        text-align: right;\n",
       "    }\n",
       "</style>\n",
       "<table border=\"1\" class=\"dataframe\">\n",
       "  <thead>\n",
       "    <tr style=\"text-align: right;\">\n",
       "      <th></th>\n",
       "      <th>n_pred</th>\n",
       "      <th>n_true</th>\n",
       "      <th>precision</th>\n",
       "      <th>recall</th>\n",
       "      <th>task</th>\n",
       "      <th>thresh</th>\n",
       "      <th>true_pred</th>\n",
       "      <th>f1</th>\n",
       "    </tr>\n",
       "  </thead>\n",
       "  <tbody>\n",
       "    <tr>\n",
       "      <th>200</th>\n",
       "      <td>23</td>\n",
       "      <td>28</td>\n",
       "      <td>0.869565</td>\n",
       "      <td>0.714286</td>\n",
       "      <td>Material</td>\n",
       "      <td>0.505051</td>\n",
       "      <td>20</td>\n",
       "      <td>0.784314</td>\n",
       "    </tr>\n",
       "    <tr>\n",
       "      <th>229</th>\n",
       "      <td>54</td>\n",
       "      <td>44</td>\n",
       "      <td>0.537037</td>\n",
       "      <td>0.659091</td>\n",
       "      <td>Method</td>\n",
       "      <td>0.575758</td>\n",
       "      <td>29</td>\n",
       "      <td>0.591837</td>\n",
       "    </tr>\n",
       "    <tr>\n",
       "      <th>174</th>\n",
       "      <td>36</td>\n",
       "      <td>37</td>\n",
       "      <td>0.750000</td>\n",
       "      <td>0.729730</td>\n",
       "      <td>Metric</td>\n",
       "      <td>0.434343</td>\n",
       "      <td>27</td>\n",
       "      <td>0.739726</td>\n",
       "    </tr>\n",
       "    <tr>\n",
       "      <th>295</th>\n",
       "      <td>49</td>\n",
       "      <td>56</td>\n",
       "      <td>0.877551</td>\n",
       "      <td>0.767857</td>\n",
       "      <td>Task</td>\n",
       "      <td>0.737374</td>\n",
       "      <td>43</td>\n",
       "      <td>0.819048</td>\n",
       "    </tr>\n",
       "  </tbody>\n",
       "</table>\n",
       "</div>"
      ],
      "text/plain": [
       "     n_pred  n_true  precision    recall      task    thresh  true_pred  \\\n",
       "200      23      28   0.869565  0.714286  Material  0.505051         20   \n",
       "229      54      44   0.537037  0.659091    Method  0.575758         29   \n",
       "174      36      37   0.750000  0.729730    Metric  0.434343         27   \n",
       "295      49      56   0.877551  0.767857      Task  0.737374         43   \n",
       "\n",
       "           f1  \n",
       "200  0.784314  \n",
       "229  0.591837  \n",
       "174  0.739726  \n",
       "295  0.819048  "
      ]
     },
     "execution_count": 32,
     "metadata": {},
     "output_type": "execute_result"
    }
   ],
   "source": [
    "scored_df = merged_df.apply(lambda row : get_scores(row, fuzzy_match_with_any), axis=1)\n",
    "plot_similarity_histograms()\n",
    "generate_stats()"
   ]
  },
  {
   "cell_type": "code",
   "execution_count": 1,
   "metadata": {},
   "outputs": [],
   "source": [
    "%load_ext autoreload\n",
    "%autoreload 2"
   ]
  },
  {
   "cell_type": "code",
   "execution_count": 9,
   "metadata": {},
   "outputs": [],
   "source": [
    "from scripts.entity_matching_algorithms import entity_similarity_metric"
   ]
  },
  {
   "cell_type": "code",
   "execution_count": 10,
   "metadata": {},
   "outputs": [
    {
     "name": "stdout",
     "output_type": "stream",
     "text": [
      "['v', 'ne', 'di', 'lo'] ['objective', 'function']\n",
      "['v', 'ne', 'di', 'lo'] ['ob', 'bj', 'je', 'ec', 'ct', 'ti', 'iv', 've', 'fu', 'un', 'nc', 'ct', 'ti', 'io', 'on']\n"
     ]
    },
    {
     "data": {
      "text/plain": [
       "0.0"
      ]
     },
     "execution_count": 10,
     "metadata": {},
     "output_type": "execute_result"
    }
   ],
   "source": [
    "entity_similarity_metric['Method'][0]('V-Ne + Di Lo', 'objective function')"
   ]
  },
  {
   "cell_type": "code",
   "execution_count": 14,
   "metadata": {},
   "outputs": [],
   "source": [
    "pwc_doc_file = '../data/pwc_s2_cleaned_text_v2.jsonl'\n",
    "pwc_sentence_file = '../data/pwc_s2_cleaned_text_v2_sentences.jsonl'\n",
    "pwc_prediction_file = '../outputs/pwc_s2_cleaned_text_v2_sentences_predictions.jsonl'\n",
    "brat_anno_folder = '../brat-v1.3_Crunchy_Frog/data/result_extraction/outputs/brat_annotation_folder_doclevel_original/'"
   ]
  },
  {
   "cell_type": "code",
   "execution_count": null,
   "metadata": {},
   "outputs": [],
   "source": [
    "generate_folders_for_documents(pwc_grouped, brat_anno_folder)"
   ]
  },
  {
   "cell_type": "code",
   "execution_count": 16,
   "metadata": {},
   "outputs": [
    {
     "name": "stderr",
     "output_type": "stream",
     "text": [
      " 10%|█         | 122/1170 [00:11<01:45,  9.96it/s]"
     ]
    },
    {
     "name": "stdout",
     "output_type": "stream",
     "text": [
      "[] ∇∇ ['vat', 'entmin'] VAT+EntMin\n",
      "[] ∇∇ ['vat'] VAT\n",
      "[] ∇ ['semi', 'supervised', 'image', 'classification'] Semi-Supervised Image Classification\n"
     ]
    },
    {
     "name": "stderr",
     "output_type": "stream",
     "text": [
      " 18%|█▊        | 211/1170 [00:19<01:18, 12.18it/s]"
     ]
    },
    {
     "name": "stdout",
     "output_type": "stream",
     "text": [
      "[] ∆ ['srgcnn'] sRGCNN\n"
     ]
    },
    {
     "name": "stderr",
     "output_type": "stream",
     "text": [
      " 25%|██▍       | 288/1170 [00:26<01:05, 13.46it/s]"
     ]
    },
    {
     "name": "stdout",
     "output_type": "stream",
     "text": [
      "[] ( ) ['deep', 'diffusion'] Deep Diffusion\n"
     ]
    },
    {
     "name": "stderr",
     "output_type": "stream",
     "text": [
      " 50%|█████     | 590/1170 [00:52<00:45, 12.69it/s]"
     ]
    },
    {
     "name": "stdout",
     "output_type": "stream",
     "text": [
      "[] + ['sesr'] SESR\n"
     ]
    },
    {
     "name": "stderr",
     "output_type": "stream",
     "text": [
      " 97%|█████████▋| 1130/1170 [01:38<00:03, 12.25it/s]"
     ]
    },
    {
     "name": "stdout",
     "output_type": "stream",
     "text": [
      "[] + ['refinedet512'] RefineDet512+\n"
     ]
    },
    {
     "name": "stderr",
     "output_type": "stream",
     "text": [
      "100%|██████████| 1170/1170 [01:41<00:00, 11.48it/s]\n"
     ]
    }
   ],
   "source": [
    "after_doc_id = None\n",
    "for grp_name, df_group in tqdm(pwc_sentences_grouped) :\n",
    "    if after_doc_id is None or grp_name > after_doc_id :\n",
    "        filename = brat_anno_folder + grp_name + '/document'\n",
    "        txt_file, ann_file = open(filename + '.txt', 'w'), open(filename + '.ann', 'w')\n",
    "        add_rows_to_files(df_group, txt_file, ann_file)\n",
    "        txt_file.close()\n",
    "        ann_file.close()"
   ]
  },
  {
   "cell_type": "code",
   "execution_count": null,
   "metadata": {},
   "outputs": [],
   "source": []
  }
 ],
 "metadata": {
  "kernelspec": {
   "display_name": "Python 3",
   "language": "python",
   "name": "python3"
  },
  "language_info": {
   "codemirror_mode": {
    "name": "ipython",
    "version": 3
   },
   "file_extension": ".py",
   "mimetype": "text/x-python",
   "name": "python",
   "nbconvert_exporter": "python",
   "pygments_lexer": "ipython3",
   "version": "3.7.3"
  }
 },
 "nbformat": 4,
 "nbformat_minor": 4
}
